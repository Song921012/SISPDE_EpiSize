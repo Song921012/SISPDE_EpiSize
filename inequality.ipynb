{
 "cells": [
  {
   "cell_type": "markdown",
   "metadata": {},
   "source": [
    "# Testing an inequality\n",
    "\n",
    "$$\\left(\\int_{0}^{1}f+\\int_{0}^{1}g\\right)\\int_{0}^{1}f*g \\leq \\int_{0}^{1}f \\int_{0}^{1}g^2 +\\int_{0}^{1}g \\int_{0}^{1}f^2$$"
   ]
  },
  {
   "cell_type": "code",
   "execution_count": 33,
   "metadata": {},
   "outputs": [
    {
     "data": {
      "text/plain": [
       "inequality (generic function with 1 method)"
      ]
     },
     "execution_count": 33,
     "metadata": {},
     "output_type": "execute_result"
    }
   ],
   "source": [
    "using Integrals\n",
    "using QuadGK\n",
    "function inequality(f::Function, g::Function)\n",
    "    fsquare = (x, p) -> f(x, 1.0)^2\n",
    "    fg = (x, p) -> f(x, 1.0) * g(x, 1.0)\n",
    "    gsquare = (x, p) -> g(x, 1.0)^2\n",
    "    intgralfprob = IntegralProblem(f, 0, 1)\n",
    "    intgralfsquareprob = IntegralProblem(fsquare, 0, 1)\n",
    "    intgralgprob = IntegralProblem(g, 0, 1)\n",
    "    intgralgsquareprob = IntegralProblem(gsquare, 0, 1)\n",
    "    intgralfgprob = IntegralProblem(fg, 0, 1)\n",
    "    solf = solve(intgralfprob, QuadGKJL(), reltol=1e-3, abstol=1e-3)[1]\n",
    "    solg = solve(intgralgprob, QuadGKJL(), reltol=1e-3, abstol=1e-3)[1]\n",
    "    solfg = solve(intgralfgprob, QuadGKJL(), reltol=1e-3, abstol=1e-3)[1]\n",
    "    solfsquare = solve(intgralfsquareprob, QuadGKJL(), reltol=1e-3, abstol=1e-3)[1]\n",
    "    solgsquare = solve(intgralgsquareprob, QuadGKJL(), reltol=1e-3, abstol=1e-3)[1]\n",
    "    output = (solf + solg) * solfg - solf * solgsquare <= solg * solfsquare\n",
    "    outputvalue = (solf + solg) * solfg - solf * solgsquare - solg * solfsquare\n",
    "    return println(\"The inequality is \", output, outputvalue)\n",
    "end\n"
   ]
  },
  {
   "cell_type": "code",
   "execution_count": 39,
   "metadata": {},
   "outputs": [
    {
     "name": "stdout",
     "output_type": "stream",
     "text": [
      "The inequality is true-3.803113851616274\n"
     ]
    }
   ],
   "source": [
    "f = (x, p) -> exp(cos(4*pi*x))+1\n",
    "g = (x, p) -> exp(sin(2*pi*x))+x+1 + x*(1-x)\n",
    "inequality(f,g)"
   ]
  }
 ],
 "metadata": {
  "kernelspec": {
   "display_name": "Julia 1.7.2",
   "language": "julia",
   "name": "julia-1.7"
  },
  "language_info": {
   "file_extension": ".jl",
   "mimetype": "application/julia",
   "name": "julia",
   "version": "1.7.2"
  },
  "orig_nbformat": 4
 },
 "nbformat": 4,
 "nbformat_minor": 2
}
